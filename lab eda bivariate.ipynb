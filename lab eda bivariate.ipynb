{
 "cells": [
  {
   "cell_type": "code",
   "execution_count": 1,
   "metadata": {},
   "outputs": [],
   "source": [
    "import pandas as pd\n",
    "import seaborn as sns\n",
    "import matplotlib.pyplot as plt\n",
    "from scipy.stats import chi2_contingency"
   ]
  },
  {
   "cell_type": "code",
   "execution_count": 2,
   "metadata": {},
   "outputs": [],
   "source": [
    "pd.set_option('display.max_columns', None)"
   ]
  },
  {
   "cell_type": "code",
   "execution_count": null,
   "metadata": {},
   "outputs": [],
   "source": [
    "# Loading the AmazonUk Price Prediction Dataset\n",
    "df = pd.read_csv(r\"C:\\Users\\dalre\\Ironhack\\AmazonUKdb\\amz_uk_price_prediction_dataset.csv\")\n",
    "df"
   ]
  },
  {
   "cell_type": "markdown",
   "metadata": {},
   "source": [
    "Part 1: Analyzing Best-Seller Trends Across Product Categories\n",
    "Objective: Understand the relationship between product categories and their best-seller status.\n",
    "\n",
    "Crosstab Analysis:\n",
    "Create a crosstab between the product category and the isBestSeller status.\n",
    "Are there categories where being a best-seller is more prevalent?\n",
    "Hint: one option is to calculate the proportion of best-sellers for each category and then sort the categories based on this proportion in descending order."
   ]
  },
  {
   "cell_type": "code",
   "execution_count": 4,
   "metadata": {},
   "outputs": [
    {
     "data": {
      "text/html": [
       "<div>\n",
       "<style scoped>\n",
       "    .dataframe tbody tr th:only-of-type {\n",
       "        vertical-align: middle;\n",
       "    }\n",
       "\n",
       "    .dataframe tbody tr th {\n",
       "        vertical-align: top;\n",
       "    }\n",
       "\n",
       "    .dataframe thead th {\n",
       "        text-align: right;\n",
       "    }\n",
       "</style>\n",
       "<table border=\"1\" class=\"dataframe\">\n",
       "  <thead>\n",
       "    <tr style=\"text-align: right;\">\n",
       "      <th>isBestSeller</th>\n",
       "      <th>False</th>\n",
       "      <th>True</th>\n",
       "    </tr>\n",
       "    <tr>\n",
       "      <th>category</th>\n",
       "      <th></th>\n",
       "      <th></th>\n",
       "    </tr>\n",
       "  </thead>\n",
       "  <tbody>\n",
       "    <tr>\n",
       "      <th>3D Printers</th>\n",
       "      <td>247</td>\n",
       "      <td>1</td>\n",
       "    </tr>\n",
       "    <tr>\n",
       "      <th>3D Printing &amp; Scanning</th>\n",
       "      <td>4065</td>\n",
       "      <td>2</td>\n",
       "    </tr>\n",
       "    <tr>\n",
       "      <th>Abrasive &amp; Finishing Products</th>\n",
       "      <td>245</td>\n",
       "      <td>5</td>\n",
       "    </tr>\n",
       "    <tr>\n",
       "      <th>Action Cameras</th>\n",
       "      <td>1696</td>\n",
       "      <td>1</td>\n",
       "    </tr>\n",
       "    <tr>\n",
       "      <th>Adapters</th>\n",
       "      <td>251</td>\n",
       "      <td>3</td>\n",
       "    </tr>\n",
       "    <tr>\n",
       "      <th>...</th>\n",
       "      <td>...</td>\n",
       "      <td>...</td>\n",
       "    </tr>\n",
       "    <tr>\n",
       "      <th>Wind Instruments</th>\n",
       "      <td>243</td>\n",
       "      <td>7</td>\n",
       "    </tr>\n",
       "    <tr>\n",
       "      <th>Window Treatments</th>\n",
       "      <td>234</td>\n",
       "      <td>5</td>\n",
       "    </tr>\n",
       "    <tr>\n",
       "      <th>Women</th>\n",
       "      <td>17559</td>\n",
       "      <td>213</td>\n",
       "    </tr>\n",
       "    <tr>\n",
       "      <th>Women's Sports &amp; Outdoor Shoes</th>\n",
       "      <td>1939</td>\n",
       "      <td>20</td>\n",
       "    </tr>\n",
       "    <tr>\n",
       "      <th>eBook Readers &amp; Accessories</th>\n",
       "      <td>246</td>\n",
       "      <td>0</td>\n",
       "    </tr>\n",
       "  </tbody>\n",
       "</table>\n",
       "<p>296 rows × 2 columns</p>\n",
       "</div>"
      ],
      "text/plain": [
       "isBestSeller                    False  True \n",
       "category                                    \n",
       "3D Printers                       247      1\n",
       "3D Printing & Scanning           4065      2\n",
       "Abrasive & Finishing Products     245      5\n",
       "Action Cameras                   1696      1\n",
       "Adapters                          251      3\n",
       "...                               ...    ...\n",
       "Wind Instruments                  243      7\n",
       "Window Treatments                 234      5\n",
       "Women                           17559    213\n",
       "Women's Sports & Outdoor Shoes   1939     20\n",
       "eBook Readers & Accessories       246      0\n",
       "\n",
       "[296 rows x 2 columns]"
      ]
     },
     "execution_count": 4,
     "metadata": {},
     "output_type": "execute_result"
    }
   ],
   "source": [
    "# Generating a crosstab for 'category' and 'isBestSeller'\n",
    "crosstab = pd.crosstab(df['category'], df['isBestSeller'])\n",
    "\n",
    "crosstab"
   ]
  },
  {
   "cell_type": "markdown",
   "metadata": {},
   "source": [
    "Proportion Calculation: The proportion of best-sellers in each category is calculated by dividing the number of best-sellers (True) by the total number of products in that category (True + False). This is added as a new column 'proportion_best_sellers'."
   ]
  },
  {
   "cell_type": "code",
   "execution_count": null,
   "metadata": {},
   "outputs": [],
   "source": [
    "# Calculate the proportion of true best-sellers for each category\n",
    "#crosstab['proportion_best_sellers'] = crosstab[True] / (crosstab[True] + crosstab[False])\n",
    "\n",
    "# # Sort the categories based on the proportion of best-sellers in descending order\n",
    "# crosstab_result = crosstab.sort_values(by='proportion_best_sellers', ascending=False)\n",
    "\n",
    "# # Display the result\n",
    "# print(crosstab_result)"
   ]
  },
  {
   "cell_type": "markdown",
   "metadata": {},
   "source": [
    "The provided crosstab data tells us about the prevalence of best-sellers in different product categories. Here’s a detailed interpretation:\n",
    "\n",
    "Proportion of Best-Sellers:\n",
    "\n",
    "The proportion_best_sellers column shows the ratio of best-sellers (True) to the total number of products in each category.\n",
    "For example, the Grocery category has a proportion_best_sellers of approximately 0.058, meaning around 5.8% of grocery products are best-sellers.\n",
    "Categories with Higher Prevalence of Best-Sellers:\n",
    "\n",
    "Grocery has the highest proportion of best-sellers at 5.8135%.\n",
    "Smart Home Security & Lighting follows closely with a proportion of 5.7692%.\n",
    "Health & Personal Care has a proportion of 5.7686%.\n",
    "These categories have the highest proportions of best-sellers, indicating that products in these categories are more likely to be best-sellers compared to others.\n",
    "Categories with Lower Prevalence of Best-Sellers:\n",
    "\n",
    "Several categories have a proportion_best_sellers of 0, indicating no products in these categories are best-sellers. Examples include Bedding Collections, CPUs, CD, Disc & Tape Players, Blank Media Cases & Wallets, and eBook Readers & Accessories.\n",
    "This suggests that products in these categories are less likely to achieve best-seller status, at least within the dataset provided.\n",
    "General Trends:\n",
    "\n",
    "There is a noticeable variation in the proportion of best-sellers across different categories.\n",
    "Categories related to everyday use and health, like Grocery and Health & Personal Care, have higher proportions of best-sellers.\n",
    "More niche or specialized categories, like CPUs and eBook Readers & Accessories, have no best-sellers in this dataset.\n",
    "Implications for Business Decisions:\n",
    "Focus on High-Proportion Categories: Businesses might focus their marketing and product development efforts on categories with higher proportions of best-sellers, as these categories seem to resonate more with consumers.\n",
    "Investigate Low-Proportion Categories: For categories with low or zero proportions of best-sellers, businesses could investigate potential reasons. This might involve examining product quality, customer preferences, or market trends to identify why these categories are not achieving best-seller status.\n",
    "Example Summary Statement:\n",
    "\"The analysis of best-seller trends across product categories reveals that categories such as Grocery, Smart Home Security & Lighting, and Health & Personal Care have a higher prevalence of best-sellers, with proportions around 5.8%. In contrast, categories like Bedding Collections, CPUs, and eBook Readers & Accessories have no best-sellers, indicating a significant disparity in best-seller status across different product categories.\""
   ]
  },
  {
   "cell_type": "markdown",
   "metadata": {},
   "source": [
    "Statistical Tests:\n",
    "Conduct a Chi-square test to determine if the best-seller distribution is independent of the product category."
   ]
  },
  {
   "cell_type": "code",
   "execution_count": null,
   "metadata": {},
   "outputs": [],
   "source": [
    "import math"
   ]
  },
  {
   "cell_type": "code",
   "execution_count": 5,
   "metadata": {},
   "outputs": [
    {
     "data": {
      "text/plain": [
       "(36540.20270061387, 0.0)"
      ]
     },
     "execution_count": 5,
     "metadata": {},
     "output_type": "execute_result"
    }
   ],
   "source": [
    "# Chi-square test for 'category' and 'isBestSeller'\n",
    "chi2_statistic, chi2_p_value, dof, _ = chi2_contingency(crosstab)\n",
    "\n",
    "chi2_statistic, chi2_p_value"
   ]
  },
  {
   "cell_type": "markdown",
   "metadata": {},
   "source": [
    "Compute Cramér's V to understand the strength of association between best-seller status and category."
   ]
  },
  {
   "cell_type": "code",
   "execution_count": 6,
   "metadata": {},
   "outputs": [
    {
     "data": {
      "text/plain": [
       "0.1222829439760564"
      ]
     },
     "execution_count": 6,
     "metadata": {},
     "output_type": "execute_result"
    }
   ],
   "source": [
    "from scipy.stats.contingency import association\n",
    "# Computing the association between variables in 'crosstab_result' using the \"cramer\" method\n",
    "association(crosstab, method=\"cramer\")"
   ]
  },
  {
   "cell_type": "markdown",
   "metadata": {},
   "source": [
    "#Another option to write the cramers\n",
    "# Compute the total number of observations\n",
    "n = crosstab_result.values.sum()\n",
    "\n",
    "# Compute the minimum dimension of the contingency table minus 1\n",
    "min_dim = min(crosstab_result.shape) - 1\n",
    "\n",
    "# Compute Cramér's V\n",
    "cramers_v = math.sqrt(chi2_statistic / (n * min_dim))\n",
    "print(cramers_v)\n",
    "Total Observations: The n variable is computed as the sum of all values in the contingency table.\n",
    "Minimum Dimension Calculation: The min_dim variable is calculated as the minimum dimension of the contingency table minus 1.\n",
    "Cramér's V Calculation: The cramers_v variable is computed using the chi-square statistic, total number of observations, and minimum dimension."
   ]
  },
  {
   "cell_type": "markdown",
   "metadata": {},
   "source": [
    "Visualize the relationship between product categories and the best-seller status using a stacked bar chart."
   ]
  },
  {
   "cell_type": "code",
   "execution_count": null,
   "metadata": {},
   "outputs": [],
   "source": [
    "# Plotting a stacked bar chart for the 'crosstab_result' data\n",
    "crosstab.plot(kind=\"bar\", stacked=True)"
   ]
  },
  {
   "cell_type": "code",
   "execution_count": null,
   "metadata": {},
   "outputs": [],
   "source": [
    "top_categories = sorted_categories_by_best_seller_proportion.iloc[:10, :]"
   ]
  },
  {
   "cell_type": "markdown",
   "metadata": {},
   "source": [
    "Part 2: Exploring Product Prices and Ratings Across Categories and Brands\n",
    "Objective: Investigate how different product categories influence product prices.\n",
    "\n",
    "Preliminary Step: Remove outliers in product prices.\n",
    "\n",
    "For this purpose, we can use the IQR (Interquartile Range) method. Products priced below the first quartile minus 1.5 times the IQR or above the third quartile plus 1.5 times the IQR will be considered outliers and removed from the dataset. The next steps will be done with the dataframe without outliers.\n",
    "\n",
    "Hint: you can check the last Check For Understanding at the end of the lesson EDA Bivariate Analysis for a hint on how to do this."
   ]
  },
  {
   "cell_type": "code",
   "execution_count": 9,
   "metadata": {},
   "outputs": [],
   "source": [
    "# Calculate IQR for price\n",
    "Q1 = df['price'].quantile(0.25)\n",
    "Q3 = df['price'].quantile(0.75)\n",
    "IQR = Q3 - Q1\n",
    "\n",
    "# Define outlier bounds\n",
    "lower_bound = Q1 - 1.5 * IQR\n",
    "upper_bound = Q3 + 1.5 * IQR\n",
    "\n",
    "# Remove outliers\n",
    "df_clean = df[(df['price'] >= lower_bound) & (df['price'] <= upper_bound)]"
   ]
  },
  {
   "cell_type": "markdown",
   "metadata": {},
   "source": [
    "Violin Plots:\n",
    "\n",
    "Use a violin plot to visualize the distribution of price across different product categories. Filter out the top 20 categories based on count for better visualization.\n",
    "Which product category tends to have the highest median price? Don't filter here by top categories."
   ]
  },
  {
   "cell_type": "code",
   "execution_count": null,
   "metadata": {},
   "outputs": [],
   "source": [
    "# Filter top 20 categories based on count\n",
    "top_categories = df_clean['category'].value_counts().head(20).index\n",
    "df_filtered = df_clean[df_clean['category'].isin(top_categories)]\n",
    "\n",
    "# Create a violin plot\n",
    "plt.figure(figsize=(14, 8))\n",
    "sns.violinplot(data=df_filtered, x='category', y='price', palette='viridis')\n",
    "plt.xticks(rotation=90, ha='right')\n",
    "plt.title('Distribution of Product Prices Across Top 20 Categories', fontsize=16)\n",
    "plt.xlabel('Product Category', fontsize=14)\n",
    "plt.ylabel('Price', fontsize=14)\n",
    "plt.tight_layout()\n",
    "plt.show()\n",
    "\n",
    "# Calculate median prices\n",
    "median_prices = df_clean.groupby('category')['price'].median()\n",
    "highest_median_category = median_prices.idxmax()\n",
    "highest_median_price = median_prices.max()"
   ]
  },
  {
   "cell_type": "markdown",
   "metadata": {},
   "source": [
    "Bar Charts:\n",
    "\n",
    "Create a bar chart comparing the average price of products for the top 10 product categories (based on count).\n",
    "Which product category commands the highest average price? Don't filter here by top categories."
   ]
  },
  {
   "cell_type": "code",
   "execution_count": null,
   "metadata": {},
   "outputs": [],
   "source": [
    "# Calculate average prices for the top 10 categories\n",
    "top_10_categories = df_clean['category'].value_counts().head(20).index\n",
    "df_top10 = df_clean[df_clean['category'].isin(top_10_categories)]\n",
    "\n",
    "# Calculate average prices\n",
    "avg_prices = df_top10.groupby('category')['price'].mean().sort_values()\n",
    "\n",
    "# Create a bar chart\n",
    "plt.figure(figsize=(14, 8))\n",
    "avg_prices.plot(kind='bar', color='skyblue')\n",
    "plt.title('Average Price of Products in Top 10 Categories', fontsize=16)\n",
    "plt.xlabel('Product Category', fontsize=14)\n",
    "plt.ylabel('Average Price', fontsize=14)\n",
    "plt.xticks(rotation=45, ha='right')\n",
    "plt.tight_layout()\n",
    "plt.show()\n",
    "\n",
    "# Find the category with the highest average price\n",
    "print(f\"highest_avg_price_category = avg_prices.idxmax()\")\n",
    "print(f\"highest_avg_price = avg_prices.max()\")\n",
    "\n",
    "\n"
   ]
  },
  {
   "cell_type": "markdown",
   "metadata": {},
   "source": [
    "Box Plots:\n",
    "\n",
    "Visualize the distribution of product ratings based on their category using side-by-side box plots. Filter out the top 10 categories based on count for better visualization.\n",
    "Which category tends to receive the highest median rating from customers? Don't filter here by top categories."
   ]
  },
  {
   "cell_type": "code",
   "execution_count": null,
   "metadata": {},
   "outputs": [],
   "source": [
    "# Filter top 10 categories based on count\n",
    "top_10_categories_ratings = df_clean['category'].value_counts().head(10).index\n",
    "df_top10_ratings = df_clean[df_clean['category'].isin(top_10_categories_ratings)]\n",
    "\n",
    "# Create a box plot for ratings\n",
    "plt.figure(figsize=(14, 8))\n",
    "sns.boxplot(data=df_top10_ratings, x='category', y='stars', palette='viridis')\n",
    "plt.xticks(rotation=90, ha='right')\n",
    "plt.title('Distribution of Product Ratings Across Top 10 Categories', fontsize=16)\n",
    "plt.xlabel('Product Category', fontsize=14)\n",
    "plt.ylabel('Rating', fontsize=14)\n",
    "plt.tight_layout()\n",
    "plt.show()\n",
    "\n",
    "# Calculate median ratings\n",
    "median_ratings = df_clean.groupby('category')['stars'].median()\n",
    "highest_median_rating_category = median_ratings.idxmax()\n",
    "highest_median_rating = median_ratings.max()\n",
    "\n",
    "print(f\"The category with the highest median rating is {highest_median_rating_category} with a median rating of {highest_median_rating:.1f}\")\n"
   ]
  },
  {
   "cell_type": "markdown",
   "metadata": {},
   "source": [
    "Part 3: Investigating the Interplay Between Product Prices and Ratings\n",
    "Objective: Analyze how product ratings (stars) correlate with product prices."
   ]
  },
  {
   "cell_type": "code",
   "execution_count": 17,
   "metadata": {},
   "outputs": [
    {
     "data": {
      "text/html": [
       "<div>\n",
       "<style scoped>\n",
       "    .dataframe tbody tr th:only-of-type {\n",
       "        vertical-align: middle;\n",
       "    }\n",
       "\n",
       "    .dataframe tbody tr th {\n",
       "        vertical-align: top;\n",
       "    }\n",
       "\n",
       "    .dataframe thead th {\n",
       "        text-align: right;\n",
       "    }\n",
       "</style>\n",
       "<table border=\"1\" class=\"dataframe\">\n",
       "  <thead>\n",
       "    <tr style=\"text-align: right;\">\n",
       "      <th></th>\n",
       "      <th>price</th>\n",
       "      <th>reviews</th>\n",
       "    </tr>\n",
       "  </thead>\n",
       "  <tbody>\n",
       "    <tr>\n",
       "      <th>price</th>\n",
       "      <td>1.000000</td>\n",
       "      <td>-0.008498</td>\n",
       "    </tr>\n",
       "    <tr>\n",
       "      <th>reviews</th>\n",
       "      <td>-0.008498</td>\n",
       "      <td>1.000000</td>\n",
       "    </tr>\n",
       "  </tbody>\n",
       "</table>\n",
       "</div>"
      ],
      "text/plain": [
       "            price   reviews\n",
       "price    1.000000 -0.008498\n",
       "reviews -0.008498  1.000000"
      ]
     },
     "execution_count": 17,
     "metadata": {},
     "output_type": "execute_result"
    }
   ],
   "source": [
    "# Calculate the correlation coefficient between price and stars\n",
    "correlation = df_clean[['price', 'stars']].corr()\n",
    "correlation"
   ]
  },
  {
   "cell_type": "markdown",
   "metadata": {},
   "source": [
    "Use a scatter plot to visualize the relationship between product rating and price. What patterns can you observe?\n",
    "Use a correlation heatmap to visualize correlations between all numerical variables.\n",
    "Examine if product prices typically follow a normal distribution using a QQ plot."
   ]
  },
  {
   "cell_type": "code",
   "execution_count": null,
   "metadata": {},
   "outputs": [],
   "source": [
    "# Scatter plot of price vs. stars\n",
    "plt.figure(figsize=(14, 8))\n",
    "sns.scatterplot(data=df_clean, x='price', y='stars', alpha=0.5, palette='viridis')\n",
    "plt.title('Relationship Between Product Price and Rating', fontsize=16)\n",
    "plt.xlabel('Price', fontsize=14)\n",
    "plt.ylabel('Rating', fontsize=14)\n",
    "plt.tight_layout()\n",
    "plt.show()"
   ]
  },
  {
   "cell_type": "code",
   "execution_count": null,
   "metadata": {},
   "outputs": [],
   "source": [
    "# Correlation heatmap\n",
    "plt.figure(figsize=(10, 8))\n",
    "correlation_matrix = df_clean[['price', 'stars']].corr()\n",
    "sns.heatmap(correlation_matrix, annot=True, cmap='coolwarm', fmt='.2f', linewidths=.5)\n",
    "plt.title('Correlation Heatmap of Numerical Variables', fontsize=16)\n",
    "plt.show()\n"
   ]
  }
 ],
 "metadata": {
  "kernelspec": {
   "display_name": "Python 3",
   "language": "python",
   "name": "python3"
  },
  "language_info": {
   "codemirror_mode": {
    "name": "ipython",
    "version": 3
   },
   "file_extension": ".py",
   "mimetype": "text/x-python",
   "name": "python",
   "nbconvert_exporter": "python",
   "pygments_lexer": "ipython3",
   "version": "3.11.7"
  }
 },
 "nbformat": 4,
 "nbformat_minor": 2
}
